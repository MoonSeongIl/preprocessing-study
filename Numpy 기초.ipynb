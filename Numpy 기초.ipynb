{
 "cells": [
  {
   "cell_type": "code",
   "execution_count": 1,
   "id": "a2df5ab9",
   "metadata": {},
   "outputs": [],
   "source": [
    "import numpy as np"
   ]
  },
  {
   "cell_type": "code",
   "execution_count": 3,
   "id": "2d702887",
   "metadata": {},
   "outputs": [
    {
     "name": "stdout",
     "output_type": "stream",
     "text": [
      "<class 'numpy.ndarray'>\n"
     ]
    }
   ],
   "source": [
    "temp = np.array([1,2,3])\n",
    "print(type(temp))"
   ]
  },
  {
   "cell_type": "code",
   "execution_count": 4,
   "id": "244ff083",
   "metadata": {},
   "outputs": [],
   "source": [
    "# numpy : A와 B 배열을 더하면, A배열과 B배열의 값이 각각 덧셈 형태로 변환된다."
   ]
  },
  {
   "cell_type": "code",
   "execution_count": 5,
   "id": "2e5d79df",
   "metadata": {},
   "outputs": [
    {
     "data": {
      "text/plain": [
       "[1, 2, 3]"
      ]
     },
     "execution_count": 5,
     "metadata": {},
     "output_type": "execute_result"
    }
   ],
   "source": [
    "data1 = [1,2,3]\n",
    "data1"
   ]
  },
  {
   "cell_type": "code",
   "execution_count": 6,
   "id": "93254fbb",
   "metadata": {},
   "outputs": [
    {
     "data": {
      "text/plain": [
       "[1, 1, 2, 2, 3, 4]"
      ]
     },
     "execution_count": 6,
     "metadata": {},
     "output_type": "execute_result"
    }
   ],
   "source": [
    "data2 = [1,1,2,2,3,4]\n",
    "data2"
   ]
  },
  {
   "cell_type": "code",
   "execution_count": 7,
   "id": "e14015da",
   "metadata": {},
   "outputs": [
    {
     "name": "stdout",
     "output_type": "stream",
     "text": [
      "[1 2 3]\n",
      "(3,)\n"
     ]
    }
   ],
   "source": [
    "# 만들어진 리스트를 np.aaray를 통해 배열로 변환.\n",
    "my_array1 = np.array(data1)\n",
    "print(my_array1)\n",
    "print(my_array1.shape)"
   ]
  },
  {
   "cell_type": "code",
   "execution_count": 8,
   "id": "3e804cf9",
   "metadata": {},
   "outputs": [
    {
     "name": "stdout",
     "output_type": "stream",
     "text": [
      "[1 1 2 2 3 4]\n",
      "(6,)\n"
     ]
    }
   ],
   "source": [
    "my_array2 = np.array(data2)\n",
    "print(my_array2)\n",
    "print(my_array2.shape)"
   ]
  },
  {
   "cell_type": "code",
   "execution_count": 9,
   "id": "5dfbf66c",
   "metadata": {},
   "outputs": [
    {
     "data": {
      "text/plain": [
       "array([[2, 3, 1],\n",
       "       [1, 2, 3],\n",
       "       [4, 5, 6],\n",
       "       [7, 8, 9]])"
      ]
     },
     "execution_count": 9,
     "metadata": {},
     "output_type": "execute_result"
    }
   ],
   "source": [
    "# 꼭 1개를 넣는 것이 아닌 여러 개를 동시에 넣을 수도 있다.\n",
    "my_array4 = np.array([[2,3,1],[1,2,3],[4,5,6],[7,8,9]])\n",
    "my_array4"
   ]
  },
  {
   "cell_type": "code",
   "execution_count": 10,
   "id": "03440fe9",
   "metadata": {},
   "outputs": [
    {
     "data": {
      "text/plain": [
       "(4, 3)"
      ]
     },
     "execution_count": 10,
     "metadata": {},
     "output_type": "execute_result"
    }
   ],
   "source": [
    "my_array4.shape"
   ]
  },
  {
   "cell_type": "code",
   "execution_count": 11,
   "id": "dc14f839",
   "metadata": {},
   "outputs": [],
   "source": [
    "# 4행 3열인 데이터라는 것을 알 수 있음."
   ]
  },
  {
   "cell_type": "code",
   "execution_count": 13,
   "id": "932f15f3",
   "metadata": {},
   "outputs": [
    {
     "data": {
      "text/plain": [
       "array([[[1, 2],\n",
       "        [3, 4]],\n",
       "\n",
       "       [[5, 6],\n",
       "        [7, 8]]])"
      ]
     },
     "execution_count": 13,
     "metadata": {},
     "output_type": "execute_result"
    }
   ],
   "source": [
    "my_array5 = np.array([[[1,2],[3,4]],[[5,6],[7,8]]])\n",
    "my_array5"
   ]
  },
  {
   "cell_type": "code",
   "execution_count": 14,
   "id": "cf5238c4",
   "metadata": {},
   "outputs": [
    {
     "data": {
      "text/plain": [
       "(2, 2, 2)"
      ]
     },
     "execution_count": 14,
     "metadata": {},
     "output_type": "execute_result"
    }
   ],
   "source": [
    "my_array5.shape"
   ]
  },
  {
   "cell_type": "code",
   "execution_count": 15,
   "id": "4fb3ede5",
   "metadata": {},
   "outputs": [],
   "source": [
    "# 3차원의 배열 데이터로 2*2*2의 크기를 가집니다."
   ]
  },
  {
   "cell_type": "code",
   "execution_count": 16,
   "id": "865d79e7",
   "metadata": {},
   "outputs": [],
   "source": [
    "# 기본함수들"
   ]
  },
  {
   "cell_type": "code",
   "execution_count": 17,
   "id": "04941f87",
   "metadata": {},
   "outputs": [
    {
     "data": {
      "text/plain": [
       "array([0, 1, 2, 3, 4])"
      ]
     },
     "execution_count": 17,
     "metadata": {},
     "output_type": "execute_result"
    }
   ],
   "source": [
    "arrange_array = np.arange(5)\n",
    "arrange_array"
   ]
  },
  {
   "cell_type": "code",
   "execution_count": 18,
   "id": "2feceb71",
   "metadata": {},
   "outputs": [
    {
     "data": {
      "text/plain": [
       "array([1, 4, 7])"
      ]
     },
     "execution_count": 18,
     "metadata": {},
     "output_type": "execute_result"
    }
   ],
   "source": [
    "# 1부터 9미만까지 3단위\n",
    "np.arange(1,9,3)"
   ]
  },
  {
   "cell_type": "code",
   "execution_count": 19,
   "id": "c1fddc8c",
   "metadata": {},
   "outputs": [],
   "source": [
    "#zeros, ones"
   ]
  },
  {
   "cell_type": "code",
   "execution_count": 20,
   "id": "e74ec3c2",
   "metadata": {},
   "outputs": [
    {
     "name": "stdout",
     "output_type": "stream",
     "text": [
      "[[0 0 0 0 0]\n",
      " [0 0 0 0 0]\n",
      " [0 0 0 0 0]]\n",
      "Data Type is : int32\n",
      "Data Shape is : (3, 5)\n"
     ]
    }
   ],
   "source": [
    "zeros_array = np.zeros((3,5),dtype='int32')\n",
    "print(zeros_array)\n",
    "print(\"Data Type is :\", zeros_array.dtype)\n",
    "print(\"Data Shape is :\", zeros_array.shape)"
   ]
  },
  {
   "cell_type": "code",
   "execution_count": 22,
   "id": "d4f9d711",
   "metadata": {},
   "outputs": [],
   "source": [
    "# Reshape : 특정 차원에서 열은 고정한 상태로 행은 사이즈에 맞도록 자동으로 정렬\n",
    "# np.reshape(-1,x)"
   ]
  },
  {
   "cell_type": "code",
   "execution_count": 23,
   "id": "3f207702",
   "metadata": {},
   "outputs": [
    {
     "data": {
      "text/plain": [
       "array([ 1,  2,  3,  4,  5,  6,  7,  8,  9, 10])"
      ]
     },
     "execution_count": 23,
     "metadata": {},
     "output_type": "execute_result"
    }
   ],
   "source": [
    "temp_arr = np.array([1,2,3,4,5,6,7,8,9,10])\n",
    "temp_arr"
   ]
  },
  {
   "cell_type": "code",
   "execution_count": 24,
   "id": "6b555a1f",
   "metadata": {},
   "outputs": [
    {
     "data": {
      "text/plain": [
       "array([[ 1,  2,  3,  4,  5],\n",
       "       [ 6,  7,  8,  9, 10]])"
      ]
     },
     "execution_count": 24,
     "metadata": {},
     "output_type": "execute_result"
    }
   ],
   "source": [
    "new_arr = temp_arr.reshape(2,-1)\n",
    "new_arr\n",
    "# 2행으로 고정한 상태에서 열을 사이즈 맞도록 자동 정렬"
   ]
  },
  {
   "cell_type": "code",
   "execution_count": 26,
   "id": "592c3924",
   "metadata": {},
   "outputs": [
    {
     "ename": "TypeError",
     "evalue": "'tuple' object is not callable",
     "output_type": "error",
     "traceback": [
      "\u001b[1;31m---------------------------------------------------------------------------\u001b[0m",
      "\u001b[1;31mTypeError\u001b[0m                                 Traceback (most recent call last)",
      "\u001b[1;32m<ipython-input-26-9086a666c2af>\u001b[0m in \u001b[0;36m<module>\u001b[1;34m\u001b[0m\n\u001b[1;32m----> 1\u001b[1;33m \u001b[0mnew_arr2\u001b[0m \u001b[1;33m=\u001b[0m \u001b[0mtemp_arr\u001b[0m\u001b[1;33m.\u001b[0m\u001b[0mshape\u001b[0m\u001b[1;33m(\u001b[0m\u001b[1;36m4\u001b[0m\u001b[1;33m,\u001b[0m\u001b[1;33m-\u001b[0m\u001b[1;36m1\u001b[0m\u001b[1;33m)\u001b[0m\u001b[1;33m\u001b[0m\u001b[1;33m\u001b[0m\u001b[0m\n\u001b[0m\u001b[0;32m      2\u001b[0m \u001b[0mnew_arr2\u001b[0m\u001b[1;33m\u001b[0m\u001b[1;33m\u001b[0m\u001b[0m\n\u001b[0;32m      3\u001b[0m \u001b[1;31m# 개수에 맞지 않으면 error 도출\u001b[0m\u001b[1;33m\u001b[0m\u001b[1;33m\u001b[0m\u001b[1;33m\u001b[0m\u001b[0m\n",
      "\u001b[1;31mTypeError\u001b[0m: 'tuple' object is not callable"
     ]
    }
   ],
   "source": [
    "new_arr2 = temp_arr.shape(4,-1)\n",
    "new_arr2\n",
    "# 개수에 맞지 않으면 error 도출"
   ]
  },
  {
   "cell_type": "code",
   "execution_count": 28,
   "id": "2c270fe7",
   "metadata": {},
   "outputs": [],
   "source": [
    "# 정렬 : np.sort()\n",
    "# 내림차순 정렬 : [[:`-1]]\n",
    "# 지정된 축에 따라 데이터 인덱스의 배열을 반환하도록 지정된 종류의 정렬을 사용해 입력 배열에서 간접 정렬을 수행 : argsort()"
   ]
  },
  {
   "cell_type": "code",
   "execution_count": 32,
   "id": "4cf8f1ca",
   "metadata": {},
   "outputs": [
    {
     "name": "stdout",
     "output_type": "stream",
     "text": [
      "The original data :  [10  5 15 20]\n",
      "The argsort(): [1 0 2 3]\n",
      "The ascending: [ 5 10 15 20]\n",
      "오름차순 정렬 :  [ 5 10 15 20]\n",
      "내림차순 정렬 :  [20 15 10  5]\n"
     ]
    }
   ],
   "source": [
    "fives = np.array([10,5,15,20])\n",
    "fives_order = fives.argsort()\n",
    "\n",
    "print('The original data : ',fives)\n",
    "print('The argsort():',fives_order)\n",
    "print('The ascending:',fives[fives_order])\n",
    "print('오름차순 정렬 : ',np.sort(fives))\n",
    "print('내림차순 정렬 : ',np.sort(fives)[::-1])"
   ]
  },
  {
   "cell_type": "code",
   "execution_count": null,
   "id": "0ced32b6",
   "metadata": {},
   "outputs": [],
   "source": []
  }
 ],
 "metadata": {
  "kernelspec": {
   "display_name": "Python 3",
   "language": "python",
   "name": "python3"
  },
  "language_info": {
   "codemirror_mode": {
    "name": "ipython",
    "version": 3
   },
   "file_extension": ".py",
   "mimetype": "text/x-python",
   "name": "python",
   "nbconvert_exporter": "python",
   "pygments_lexer": "ipython3",
   "version": "3.8.8"
  }
 },
 "nbformat": 4,
 "nbformat_minor": 5
}
